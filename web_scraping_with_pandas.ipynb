{
 "cells": [
  {
   "cell_type": "markdown",
   "id": "5970df44-0a29-4631-b0e9-6faeaf01afaf",
   "metadata": {},
   "source": [
    "### Using the below files for web scraping\n",
    "\n",
    "https://www.football-data.co.uk/mmz4281/2425/E0.csv \\\n",
    "https://www.football-data.co.uk/mmz4281/2425/E1.csv \\\n",
    "https://www.football-data.co.uk/mmz4281/2425/E2.csv \\\n",
    "https://www.football-data.co.uk/mmz4281/2324/E0.csv \\\n",
    "https://www.football-data.co.uk/mmz4281/2324/E1.csv \\\n",
    "https://www.football-data.co.uk/mmz4281/2324/E2.csv \\\n",
    "https://www.football-data.co.uk/mmz4281/2223/E0.csv \\\n",
    "https://www.football-data.co.uk/mmz4281/2223/E1.csv \\\n",
    "https://www.football-data.co.uk/mmz4281/2223/E2.csv"
   ]
  },
  {
   "cell_type": "code",
   "execution_count": 1,
   "id": "47e1f21f-8653-463b-8e06-c7b39afa3cd6",
   "metadata": {},
   "outputs": [],
   "source": [
    "import pandas as pd\n",
    "import numpy as np"
   ]
  },
  {
   "cell_type": "markdown",
   "id": "b2e913e9-a94c-4594-99fe-60b58f999034",
   "metadata": {},
   "source": [
    "### Transforming CSV files as dataframes /\n",
    "#### Total 3 seasons - Total 3 leagues in each seaeson - 1 dataframe per league"
   ]
  },
  {
   "cell_type": "code",
   "execution_count": 2,
   "id": "6962aeb1-2c51-482e-94b3-e01998a20bba",
   "metadata": {},
   "outputs": [],
   "source": [
    "starting_year = 22\n",
    "ending_year = 25"
   ]
  },
  {
   "cell_type": "code",
   "execution_count": 3,
   "id": "e66eb7f9-1adf-4391-88eb-6bed0fa548c3",
   "metadata": {},
   "outputs": [],
   "source": [
    "if(starting_year > ending_year):\n",
    "    starting_year, ending_year = ending_year, starting_year\n",
    "    \n",
    "league_dictionary = {\"Spanish La Liga\": \"SP1\",\n",
    "                     \"Spanish Segunda Division\": \"SP2\",\n",
    "                     \"German Bundesliga\": \"D1\",\n",
    "                     \"English Premier League\": \"E0\",\n",
    "                     \"English League 1\": \"E1\",\n",
    "                     \"English League 2\": \"E2\"}\n",
    "premiership_season_data = {} # dictionary containing season-wise data "
   ]
  },
  {
   "cell_type": "code",
   "execution_count": 4,
   "id": "9a85ae18-e16d-48e9-841b-816069f0ed1f",
   "metadata": {},
   "outputs": [],
   "source": [
    "for season in range(starting_year, ending_year):\n",
    "    premiership_data_list = []\n",
    "    for league in league_dictionary: # iterating through keys\n",
    "        df = pd.read_csv('https://www.football-data.co.uk/mmz4281/' + str(season) + str(season+1) + '/' + league_dictionary[league] + '.csv')\n",
    "        df.insert(1, \"Season\", \"20\" + str(season))\n",
    "        df.rename(columns = {\"Div\": \"League\"}, inplace = True)\n",
    "        premiership_data_list.append(df)\n",
    "    premiership_data = pd.concat(premiership_data_list)\n",
    "    premiership_season_data[\"20\" + str(season)] = premiership_data"
   ]
  },
  {
   "cell_type": "markdown",
   "id": "ec70f968-552e-4fd1-8503-a5dc483e96ce",
   "metadata": {},
   "source": [
    "#### Filter out data based on specific criteria"
   ]
  },
  {
   "cell_type": "code",
   "execution_count": 5,
   "id": "ae0fcf38-5efb-4773-89dc-9aa0d282f26a",
   "metadata": {},
   "outputs": [],
   "source": [
    "premiership_season_data_list = []\n",
    "\n",
    "terminate_at = (ending_year - starting_year) # terminate_at will be less than 1 of assigned value\n",
    "for i in range(0, terminate_at):\n",
    "    premiership_season_data_SP1_league = premiership_season_data[\"202\" + str(i+2)]\n",
    "    premiership_season_data_SP1_league = premiership_season_data_SP1_league[premiership_season_data_SP1_league[\"League\"] == \"SP1\"]\n",
    "    premiership_season_data_SP1_league = premiership_season_data_SP1_league[premiership_season_data_SP1_league[\"AvgCAHH\"] > 1.85]\n",
    "    premiership_season_data_list.append(premiership_season_data_SP1_league)"
   ]
  },
  {
   "cell_type": "markdown",
   "id": "56a481f7-d51c-47ab-91c8-c1bcc2cf93e5",
   "metadata": {},
   "source": [
    "### Summarizing the data from 2022 to 2024"
   ]
  },
  {
   "cell_type": "code",
   "execution_count": 6,
   "id": "cd732495-3b15-4517-b8be-ae05fc4008d7",
   "metadata": {},
   "outputs": [],
   "source": [
    "avg_cahh = []\n",
    "avg_caha = []\n",
    "max_caha = []\n",
    "max_cahh = []\n",
    "\n",
    "for i, season_data in enumerate(premiership_season_data_list):\n",
    "    avg_cahh.append(season_data.describe().mean().AvgCAHH)\n",
    "    avg_caha.append(season_data.describe().mean().AvgCAHA)\n",
    "    max_caha.append(season_data.describe().mean().MaxCAHA)\n",
    "    max_cahh.append(season_data.describe().mean().MaxCAHH)"
   ]
  },
  {
   "cell_type": "markdown",
   "id": "5c131a9a-5097-499f-8936-4ec2a5141891",
   "metadata": {},
   "source": [
    "#### Making a dataframe"
   ]
  },
  {
   "cell_type": "code",
   "execution_count": 7,
   "id": "266b89aa-c84c-42f2-ab39-297e5932d36e",
   "metadata": {},
   "outputs": [],
   "source": [
    "premiership_summary = {\"Avg_odds_for_Handicap_Home\": avg_cahh,\n",
    "                       \"Avg_odds_for_Handicap_Away\": avg_caha,\n",
    "                       \"Maximum_odds_for_Handicap_Home\": max_cahh,\n",
    "                       \"Maximum_odds_for_Handicap_Away\": max_caha\n",
    "                      }\n",
    "\n",
    "premiership_summary_df = pd.DataFrame(premiership_summary)"
   ]
  },
  {
   "cell_type": "code",
   "execution_count": 8,
   "id": "22687357-04e0-4ba5-aaa4-aaeb5d533432",
   "metadata": {},
   "outputs": [],
   "source": [
    "new_indices_dict = {}\n",
    "\n",
    "for i in range(0, terminate_at):\n",
    "    new_indices_dict[i] = \"202\" + str(i+2)\n",
    "    \n",
    "premiership_summary_df.rename(index= new_indices_dict, inplace=True)"
   ]
  },
  {
   "cell_type": "code",
   "execution_count": 9,
   "id": "d250460f-9434-4874-afcd-b4206e1645c0",
   "metadata": {},
   "outputs": [
    {
     "data": {
      "text/html": [
       "<div>\n",
       "<style scoped>\n",
       "    .dataframe tbody tr th:only-of-type {\n",
       "        vertical-align: middle;\n",
       "    }\n",
       "\n",
       "    .dataframe tbody tr th {\n",
       "        vertical-align: top;\n",
       "    }\n",
       "\n",
       "    .dataframe thead th {\n",
       "        text-align: right;\n",
       "    }\n",
       "</style>\n",
       "<table border=\"1\" class=\"dataframe\">\n",
       "  <thead>\n",
       "    <tr style=\"text-align: right;\">\n",
       "      <th></th>\n",
       "      <th>Avg_odds_for_Handicap_Home</th>\n",
       "      <th>Avg_odds_for_Handicap_Away</th>\n",
       "      <th>Maximum_odds_for_Handicap_Home</th>\n",
       "      <th>Maximum_odds_for_Handicap_Away</th>\n",
       "    </tr>\n",
       "  </thead>\n",
       "  <tbody>\n",
       "    <tr>\n",
       "      <th>2022</th>\n",
       "      <td>35.124705</td>\n",
       "      <td>35.048344</td>\n",
       "      <td>35.183037</td>\n",
       "      <td>35.108863</td>\n",
       "    </tr>\n",
       "    <tr>\n",
       "      <th>2023</th>\n",
       "      <td>35.865351</td>\n",
       "      <td>35.797619</td>\n",
       "      <td>35.951063</td>\n",
       "      <td>35.863067</td>\n",
       "    </tr>\n",
       "    <tr>\n",
       "      <th>2024</th>\n",
       "      <td>36.743654</td>\n",
       "      <td>36.676518</td>\n",
       "      <td>36.792623</td>\n",
       "      <td>36.731009</td>\n",
       "    </tr>\n",
       "  </tbody>\n",
       "</table>\n",
       "</div>"
      ],
      "text/plain": [
       "      Avg_odds_for_Handicap_Home  Avg_odds_for_Handicap_Away  \\\n",
       "2022                   35.124705                   35.048344   \n",
       "2023                   35.865351                   35.797619   \n",
       "2024                   36.743654                   36.676518   \n",
       "\n",
       "      Maximum_odds_for_Handicap_Home  Maximum_odds_for_Handicap_Away  \n",
       "2022                       35.183037                       35.108863  \n",
       "2023                       35.951063                       35.863067  \n",
       "2024                       36.792623                       36.731009  "
      ]
     },
     "execution_count": 9,
     "metadata": {},
     "output_type": "execute_result"
    }
   ],
   "source": [
    "premiership_summary_df"
   ]
  }
 ],
 "metadata": {
  "kernelspec": {
   "display_name": "Python [conda env:base] *",
   "language": "python",
   "name": "conda-base-py"
  },
  "language_info": {
   "codemirror_mode": {
    "name": "ipython",
    "version": 3
   },
   "file_extension": ".py",
   "mimetype": "text/x-python",
   "name": "python",
   "nbconvert_exporter": "python",
   "pygments_lexer": "ipython3",
   "version": "3.13.5"
  }
 },
 "nbformat": 4,
 "nbformat_minor": 5
}
